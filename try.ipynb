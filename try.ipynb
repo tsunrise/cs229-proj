{
 "cells": [
  {
   "cell_type": "code",
   "execution_count": 179,
   "metadata": {},
   "outputs": [
    {
     "name": "stdout",
     "output_type": "stream",
     "text": [
      "The autoreload extension is already loaded. To reload it, use:\n",
      "  %reload_ext autoreload\n"
     ]
    }
   ],
   "source": [
    "import preprocess.prepare as prepare\n",
    "import preprocess.word_bag as word_bag\n",
    "import model.naive_bayes\n",
    "import model.nn\n",
    "import numpy as np\n",
    "%load_ext autoreload\n",
    "%autoreload 2"
   ]
  },
  {
   "cell_type": "code",
   "execution_count": 2,
   "metadata": {},
   "outputs": [
    {
     "name": "stdout",
     "output_type": "stream",
     "text": [
      "Using cached:  crates-io.tar.gz\n",
      "Cleaning up old crates-io data\n",
      "Extracting crates-io data\n"
     ]
    },
    {
     "name": "stderr",
     "output_type": "stream",
     "text": [
      "100%|\u001b[32m██████████\u001b[0m| 21/21 [00:03<00:00,  5.32files/s]\n",
      "Loading crates: 100%|██████████| 94910/94910 [00:00<00:00, 281998.83it/s]\n",
      "Merging crates-categories relationship: 100%|██████████| 59887/59887 [00:00<00:00, 1059688.33it/s]\n"
     ]
    }
   ],
   "source": [
    "data = prepare.CratesData()"
   ]
  },
  {
   "cell_type": "code",
   "execution_count": 44,
   "metadata": {},
   "outputs": [
    {
     "data": {
      "text/plain": [
       "32225"
      ]
     },
     "execution_count": 44,
     "metadata": {},
     "output_type": "execute_result"
    }
   ],
   "source": [
    "crates = [crate for crate in data.id2crates.values() if crate.category_indices]\n",
    "len(crates)"
   ]
  },
  {
   "cell_type": "code",
   "execution_count": 29,
   "metadata": {},
   "outputs": [
    {
     "data": {
      "text/plain": [
       "32225"
      ]
     },
     "execution_count": 29,
     "metadata": {},
     "output_type": "execute_result"
    }
   ],
   "source": [
    "len(crates)"
   ]
  },
  {
   "cell_type": "code",
   "execution_count": 166,
   "metadata": {},
   "outputs": [
    {
     "name": "stderr",
     "output_type": "stream",
     "text": [
      "Creating dictionary: 100%|██████████| 32225/32225 [02:48<00:00, 191.69it/s]\n"
     ]
    }
   ],
   "source": [
    "dic = word_bag.create_dictionary(crates)"
   ]
  },
  {
   "cell_type": "code",
   "execution_count": 167,
   "metadata": {},
   "outputs": [
    {
     "name": "stderr",
     "output_type": "stream",
     "text": [
      "Transforming crates: 100%|██████████| 10000/10000 [00:51<00:00, 193.47it/s]\n"
     ]
    }
   ],
   "source": [
    "X, y = word_bag.transform_crate(crates[:10000], dic, len(data.categories))"
   ]
  },
  {
   "cell_type": "code",
   "execution_count": 180,
   "metadata": {},
   "outputs": [],
   "source": [
    "model = model.nn.DNNModel(num_categories=len(data.categories), learning_rate=0.0001)"
   ]
  },
  {
   "cell_type": "code",
   "execution_count": 181,
   "metadata": {},
   "outputs": [
    {
     "name": "stdout",
     "output_type": "stream",
     "text": [
      "Epoch: 0, Loss: 0.1167\n",
      "Epoch: 1, Loss: 0.0981\n",
      "Epoch: 2, Loss: 0.0843\n",
      "Epoch: 3, Loss: 0.0783\n",
      "Epoch: 4, Loss: 0.0698\n",
      "Epoch: 5, Loss: 0.0597\n",
      "Epoch: 6, Loss: 0.0585\n",
      "Epoch: 7, Loss: 0.0526\n",
      "Epoch: 8, Loss: 0.0510\n",
      "Epoch: 9, Loss: 0.0548\n",
      "Epoch: 10, Loss: 0.0503\n",
      "Epoch: 11, Loss: 0.0448\n",
      "Epoch: 12, Loss: 0.0424\n",
      "Epoch: 13, Loss: 0.0404\n",
      "Epoch: 14, Loss: 0.0399\n",
      "Epoch: 15, Loss: 0.0364\n",
      "Epoch: 16, Loss: 0.0347\n",
      "Epoch: 17, Loss: 0.0347\n",
      "Epoch: 18, Loss: 0.0344\n",
      "Epoch: 19, Loss: 0.0338\n",
      "Epoch: 20, Loss: 0.0329\n",
      "Epoch: 21, Loss: 0.0331\n",
      "Epoch: 22, Loss: 0.0318\n",
      "Epoch: 23, Loss: 0.0305\n",
      "Epoch: 24, Loss: 0.0306\n",
      "Epoch: 25, Loss: 0.0303\n",
      "Epoch: 26, Loss: 0.0298\n",
      "Epoch: 27, Loss: 0.0293\n",
      "Epoch: 28, Loss: 0.0288\n",
      "Epoch: 29, Loss: 0.0278\n",
      "Epoch: 30, Loss: 0.0281\n",
      "Epoch: 31, Loss: 0.0273\n",
      "Epoch: 32, Loss: 0.0267\n",
      "Epoch: 33, Loss: 0.0268\n",
      "Epoch: 34, Loss: 0.0269\n",
      "Epoch: 35, Loss: 0.0271\n",
      "Epoch: 36, Loss: 0.0276\n",
      "Epoch: 37, Loss: 0.0268\n",
      "Epoch: 38, Loss: 0.0264\n",
      "Epoch: 39, Loss: 0.0257\n",
      "Epoch: 40, Loss: 0.0260\n",
      "Epoch: 41, Loss: 0.0255\n",
      "Epoch: 42, Loss: 0.0253\n",
      "Epoch: 43, Loss: 0.0254\n",
      "Epoch: 44, Loss: 0.0256\n",
      "Epoch: 45, Loss: 0.0251\n",
      "Epoch: 46, Loss: 0.0250\n",
      "Epoch: 47, Loss: 0.0249\n",
      "Epoch: 48, Loss: 0.0249\n",
      "Epoch: 49, Loss: 0.0246\n",
      "Epoch: 50, Loss: 0.0245\n",
      "Epoch: 51, Loss: 0.0244\n",
      "Epoch: 52, Loss: 0.0246\n",
      "Epoch: 53, Loss: 0.0248\n",
      "Epoch: 54, Loss: 0.0246\n",
      "Epoch: 55, Loss: 0.0246\n",
      "Epoch: 56, Loss: 0.0247\n",
      "Epoch: 57, Loss: 0.0243\n",
      "Epoch: 58, Loss: 0.0243\n",
      "Epoch: 59, Loss: 0.0242\n",
      "Epoch: 60, Loss: 0.0242\n",
      "Epoch: 61, Loss: 0.0240\n",
      "Epoch: 62, Loss: 0.0238\n",
      "Epoch: 63, Loss: 0.0235\n",
      "Epoch: 64, Loss: 0.0235\n",
      "Epoch: 65, Loss: 0.0232\n",
      "Epoch: 66, Loss: 0.0232\n",
      "Epoch: 67, Loss: 0.0235\n",
      "Epoch: 68, Loss: 0.0232\n",
      "Epoch: 69, Loss: 0.0234\n",
      "Epoch: 70, Loss: 0.0233\n",
      "Epoch: 71, Loss: 0.0232\n",
      "Epoch: 72, Loss: 0.0233\n",
      "Epoch: 73, Loss: 0.0232\n",
      "Epoch: 74, Loss: 0.0233\n",
      "Epoch: 75, Loss: 0.0231\n",
      "Epoch: 76, Loss: 0.0231\n",
      "Epoch: 77, Loss: 0.0231\n",
      "Epoch: 78, Loss: 0.0229\n",
      "Epoch: 79, Loss: 0.0232\n",
      "Epoch: 80, Loss: 0.0235\n",
      "Epoch: 81, Loss: 0.0235\n",
      "Epoch: 82, Loss: 0.0235\n",
      "Epoch: 83, Loss: 0.0233\n",
      "Epoch: 84, Loss: 0.0233\n",
      "Epoch: 85, Loss: 0.0233\n",
      "Epoch: 86, Loss: 0.0233\n",
      "Epoch: 87, Loss: 0.0233\n",
      "Epoch: 88, Loss: 0.0231\n",
      "Epoch: 89, Loss: 0.0230\n",
      "Epoch: 90, Loss: 0.0226\n",
      "Epoch: 91, Loss: 0.0227\n",
      "Epoch: 92, Loss: 0.0225\n",
      "Epoch: 93, Loss: 0.0225\n",
      "Epoch: 94, Loss: 0.0224\n",
      "Epoch: 95, Loss: 0.0223\n",
      "Epoch: 96, Loss: 0.0222\n",
      "Epoch: 97, Loss: 0.0222\n",
      "Epoch: 98, Loss: 0.0223\n",
      "Epoch: 99, Loss: 0.0222\n"
     ]
    }
   ],
   "source": [
    "model.fit(X, y, epochs=100)"
   ]
  },
  {
   "cell_type": "code",
   "execution_count": 182,
   "metadata": {},
   "outputs": [],
   "source": [
    "y_hat = model.predict(X)"
   ]
  },
  {
   "cell_type": "code",
   "execution_count": 183,
   "metadata": {},
   "outputs": [],
   "source": [
    "y_pred = (y_hat > 0).astype(np.float32)"
   ]
  },
  {
   "cell_type": "code",
   "execution_count": 186,
   "metadata": {},
   "outputs": [
    {
     "data": {
      "text/plain": [
       "array([0., 0., 0., 0., 0., 1., 0., 0., 0., 0., 0., 0., 0., 0., 0., 0., 0.,\n",
       "       0., 0., 0., 0., 0., 0., 0., 0., 0., 0., 0., 0., 0., 0., 0., 0., 0.,\n",
       "       0., 0., 0., 0., 0., 0., 0., 0., 0., 0., 0., 0., 0., 0., 1., 0., 0.,\n",
       "       0., 0., 0., 0., 0., 0., 0., 0., 0., 0., 0., 0., 0., 0., 0., 0., 0.,\n",
       "       0., 0., 0., 0., 0., 1., 0., 0., 0., 0., 0., 0., 0., 0., 0.],\n",
       "      dtype=float32)"
      ]
     },
     "execution_count": 186,
     "metadata": {},
     "output_type": "execute_result"
    }
   ],
   "source": [
    "y_pred[120]"
   ]
  },
  {
   "cell_type": "code",
   "execution_count": 187,
   "metadata": {},
   "outputs": [
    {
     "data": {
      "text/plain": [
       "array([0., 0., 0., 0., 0., 1., 0., 0., 0., 0., 0., 0., 0., 0., 0., 0., 0.,\n",
       "       0., 0., 0., 0., 0., 0., 0., 0., 0., 0., 0., 0., 0., 0., 0., 0., 0.,\n",
       "       0., 0., 0., 0., 0., 0., 0., 0., 0., 0., 0., 0., 0., 0., 1., 0., 0.,\n",
       "       0., 0., 0., 0., 0., 0., 0., 0., 0., 0., 0., 0., 0., 0., 0., 0., 0.,\n",
       "       0., 0., 0., 0., 0., 1., 0., 0., 0., 0., 0., 0., 0., 0., 0.])"
      ]
     },
     "execution_count": 187,
     "metadata": {},
     "output_type": "execute_result"
    }
   ],
   "source": [
    "y[120]"
   ]
  },
  {
   "cell_type": "code",
   "execution_count": null,
   "metadata": {},
   "outputs": [],
   "source": []
  }
 ],
 "metadata": {
  "kernelspec": {
   "display_name": "Python 3.9.12 ('env': venv)",
   "language": "python",
   "name": "python3"
  },
  "language_info": {
   "codemirror_mode": {
    "name": "ipython",
    "version": 3
   },
   "file_extension": ".py",
   "mimetype": "text/x-python",
   "name": "python",
   "nbconvert_exporter": "python",
   "pygments_lexer": "ipython3",
   "version": "3.9.12"
  },
  "orig_nbformat": 4,
  "vscode": {
   "interpreter": {
    "hash": "86d31b2c839410b1471e32d2b416a55b336f222b5dfb4e49f62c4dd209883d8c"
   }
  }
 },
 "nbformat": 4,
 "nbformat_minor": 2
}
