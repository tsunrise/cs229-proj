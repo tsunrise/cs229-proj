{
 "cells": [
  {
   "cell_type": "code",
   "execution_count": 32,
   "metadata": {},
   "outputs": [
    {
     "name": "stdout",
     "output_type": "stream",
     "text": [
      "The autoreload extension is already loaded. To reload it, use:\n",
      "  %reload_ext autoreload\n"
     ]
    }
   ],
   "source": [
    "import preprocess.prepare as prepare\n",
    "import preprocess.word_bag as word_bag\n",
    "import model.naive_bayes\n",
    "import model.nn\n",
    "import model.trivial\n",
    "import numpy as np\n",
    "from utils.cache import cached\n",
    "from utils.data import train_dev_split\n",
    "from metrics.hamming import hamming_distance\n",
    "from model.trivial import AlwaysFalseModel\n",
    "%load_ext autoreload\n",
    "%autoreload 2"
   ]
  },
  {
   "cell_type": "code",
   "execution_count": 2,
   "metadata": {},
   "outputs": [
    {
     "name": "stdout",
     "output_type": "stream",
     "text": [
      "Loading cached object from .cs229_cache\\crates_data.pkl\n"
     ]
    }
   ],
   "source": [
    "data = cached(lambda:prepare.CratesData(), \"crates_data.pkl\")"
   ]
  },
  {
   "cell_type": "code",
   "execution_count": 3,
   "metadata": {},
   "outputs": [
    {
     "data": {
      "text/plain": [
       "32225"
      ]
     },
     "execution_count": 3,
     "metadata": {},
     "output_type": "execute_result"
    }
   ],
   "source": [
    "crates = [crate for crate in data.id2crates.values() if crate.category_indices]\n",
    "len(crates)"
   ]
  },
  {
   "cell_type": "code",
   "execution_count": 4,
   "metadata": {},
   "outputs": [
    {
     "data": {
      "text/plain": [
       "32225"
      ]
     },
     "execution_count": 4,
     "metadata": {},
     "output_type": "execute_result"
    }
   ],
   "source": [
    "len(crates)"
   ]
  },
  {
   "cell_type": "code",
   "execution_count": 5,
   "metadata": {},
   "outputs": [
    {
     "name": "stdout",
     "output_type": "stream",
     "text": [
      "Loading cached object from .cs229_cache\\dictionary.pkl\n"
     ]
    }
   ],
   "source": [
    "dic = cached(lambda:word_bag.create_dictionary(crates), \"dictionary.pkl\")"
   ]
  },
  {
   "cell_type": "code",
   "execution_count": 11,
   "metadata": {},
   "outputs": [
    {
     "name": "stdout",
     "output_type": "stream",
     "text": [
      "Loading cached object from .cs229_cache\\wb10000.pkl\n"
     ]
    }
   ],
   "source": [
    "X, y = cached(lambda: word_bag.transform_crate(crates[:10000], dic, len(data.categories)), \"wb10000.pkl\")\n",
    "X = X.astype(np.float32)\n",
    "y = y.astype(np.float32)\n",
    "X_train, y_train, X_dev, y_dev = train_dev_split(X, y, train_ratio=0.8, seed=0)"
   ]
  },
  {
   "cell_type": "code",
   "execution_count": 34,
   "metadata": {},
   "outputs": [],
   "source": [
    "model = model.nn.DNNModel(num_categories=len(data.categories), learning_rate=0.0001, reg=0.000)"
   ]
  },
  {
   "cell_type": "code",
   "execution_count": 35,
   "metadata": {},
   "outputs": [
    {
     "name": "stdout",
     "output_type": "stream",
     "text": [
      "Epoch: 0, Loss: 0.0070, val_loss: 0.0069, Hamming Distance: 0.0815, val_hamming_dist: 0.0804\n",
      "Epoch: 1, Loss: 0.0047, val_loss: 0.0034, Hamming Distance: 0.0366, val_hamming_dist: 0.0366\n",
      "Epoch: 2, Loss: 0.0023, val_loss: 0.0021, Hamming Distance: 0.0221, val_hamming_dist: 0.0219\n",
      "Epoch: 3, Loss: 0.0018, val_loss: 0.0021, Hamming Distance: 0.0215, val_hamming_dist: 0.0216\n",
      "Epoch: 4, Loss: 0.0016, val_loss: 0.0019, Hamming Distance: 0.0206, val_hamming_dist: 0.0207\n",
      "Epoch: 5, Loss: 0.0016, val_loss: 0.0030, Hamming Distance: 0.0216, val_hamming_dist: 0.0216\n",
      "Epoch: 6, Loss: 0.0022, val_loss: 0.0022, Hamming Distance: 0.0290, val_hamming_dist: 0.0299\n",
      "Epoch: 7, Loss: 0.0015, val_loss: 0.0020, Hamming Distance: 0.0208, val_hamming_dist: 0.0211\n",
      "Epoch: 8, Loss: 0.0014, val_loss: 0.0021, Hamming Distance: 0.0197, val_hamming_dist: 0.0203\n",
      "Epoch: 9, Loss: 0.0014, val_loss: 0.0018, Hamming Distance: 0.0190, val_hamming_dist: 0.0202\n",
      "Epoch: 10, Loss: 0.0013, val_loss: 0.0017, Hamming Distance: 0.0179, val_hamming_dist: 0.0194\n",
      "Epoch: 11, Loss: 0.0011, val_loss: 0.0015, Hamming Distance: 0.0171, val_hamming_dist: 0.0193\n",
      "Epoch: 12, Loss: 0.0009, val_loss: 0.0014, Hamming Distance: 0.0152, val_hamming_dist: 0.0187\n",
      "Epoch: 13, Loss: 0.0009, val_loss: 0.0015, Hamming Distance: 0.0145, val_hamming_dist: 0.0196\n",
      "Epoch: 14, Loss: 0.0008, val_loss: 0.0016, Hamming Distance: 0.0153, val_hamming_dist: 0.0218\n",
      "Epoch: 15, Loss: 0.0008, val_loss: 0.0016, Hamming Distance: 0.0140, val_hamming_dist: 0.0195\n",
      "Epoch: 16, Loss: 0.0007, val_loss: 0.0015, Hamming Distance: 0.0113, val_hamming_dist: 0.0188\n",
      "Epoch: 17, Loss: 0.0006, val_loss: 0.0013, Hamming Distance: 0.0114, val_hamming_dist: 0.0181\n",
      "Epoch: 18, Loss: 0.0005, val_loss: 0.0013, Hamming Distance: 0.0086, val_hamming_dist: 0.0175\n",
      "Epoch: 19, Loss: 0.0004, val_loss: 0.0013, Hamming Distance: 0.0080, val_hamming_dist: 0.0180\n"
     ]
    }
   ],
   "source": [
    "model.fit(X_train, y_train, X_dev, y_dev, epochs=20)"
   ]
  },
  {
   "cell_type": "code",
   "execution_count": 36,
   "metadata": {},
   "outputs": [
    {
     "name": "stdout",
     "output_type": "stream",
     "text": [
      "NN Train Hamming:  0.008004518072289158\n",
      "NN Dev Hamming:  0.017981927710843375\n"
     ]
    }
   ],
   "source": [
    "nn_pred_train = model.predict(X_train)\n",
    "nn_pred_dev = model.predict(X_dev)\n",
    "nn_train_hamming = hamming_distance(y_train, nn_pred_train)\n",
    "nn_dev_hamming = hamming_distance(y_dev, nn_pred_dev)\n",
    "print(\"NN Train Hamming: \", nn_train_hamming)\n",
    "print(\"NN Dev Hamming: \", nn_dev_hamming)"
   ]
  },
  {
   "cell_type": "code",
   "execution_count": 37,
   "metadata": {},
   "outputs": [
    {
     "name": "stdout",
     "output_type": "stream",
     "text": [
      "Always False Train Hamming:  0.02208132530120482\n",
      "Always False Dev Hamming:  0.021921686746987953\n"
     ]
    }
   ],
   "source": [
    "a0_pred_train = AlwaysFalseModel(len(data.categories)).predict(X_train)\n",
    "a0_pred_dev = AlwaysFalseModel(len(data.categories)).predict(X_dev)\n",
    "a0_train_hamming = hamming_distance(y_train, a0_pred_train)\n",
    "a0_dev_hamming = hamming_distance(y_dev, a0_pred_dev)\n",
    "print(\"Always False Train Hamming: \", a0_train_hamming)\n",
    "print(\"Always False Dev Hamming: \", a0_dev_hamming)"
   ]
  }
 ],
 "metadata": {
  "kernelspec": {
   "display_name": "Python 3.9.12 ('env': venv)",
   "language": "python",
   "name": "python3"
  },
  "language_info": {
   "codemirror_mode": {
    "name": "ipython",
    "version": 3
   },
   "file_extension": ".py",
   "mimetype": "text/x-python",
   "name": "python",
   "nbconvert_exporter": "python",
   "pygments_lexer": "ipython3",
   "version": "3.9.12"
  },
  "orig_nbformat": 4,
  "vscode": {
   "interpreter": {
    "hash": "86d31b2c839410b1471e32d2b416a55b336f222b5dfb4e49f62c4dd209883d8c"
   }
  }
 },
 "nbformat": 4,
 "nbformat_minor": 2
}
