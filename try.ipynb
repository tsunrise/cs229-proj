{
 "cells": [
  {
   "cell_type": "code",
   "execution_count": 21,
   "metadata": {},
   "outputs": [
    {
     "name": "stdout",
     "output_type": "stream",
     "text": [
      "The autoreload extension is already loaded. To reload it, use:\n",
      "  %reload_ext autoreload\n"
     ]
    }
   ],
   "source": [
    "import preprocess.prepare as prepare\n",
    "import preprocess.word_bag as word_bag\n",
    "import model.naive_bayes\n",
    "import model.nn\n",
    "import numpy as np\n",
    "from utils.cache import cached\n",
    "from utils.data import train_dev_split\n",
    "%load_ext autoreload\n",
    "%autoreload 2"
   ]
  },
  {
   "cell_type": "code",
   "execution_count": 2,
   "metadata": {},
   "outputs": [
    {
     "name": "stdout",
     "output_type": "stream",
     "text": [
      "Loading cached object from .cs229_cache\\crates_data.pkl\n"
     ]
    }
   ],
   "source": [
    "data = cached(lambda:prepare.CratesData(), \"crates_data.pkl\")"
   ]
  },
  {
   "cell_type": "code",
   "execution_count": 3,
   "metadata": {},
   "outputs": [
    {
     "data": {
      "text/plain": [
       "32225"
      ]
     },
     "execution_count": 3,
     "metadata": {},
     "output_type": "execute_result"
    }
   ],
   "source": [
    "crates = [crate for crate in data.id2crates.values() if crate.category_indices]\n",
    "len(crates)"
   ]
  },
  {
   "cell_type": "code",
   "execution_count": 4,
   "metadata": {},
   "outputs": [
    {
     "data": {
      "text/plain": [
       "32225"
      ]
     },
     "execution_count": 4,
     "metadata": {},
     "output_type": "execute_result"
    }
   ],
   "source": [
    "len(crates)"
   ]
  },
  {
   "cell_type": "code",
   "execution_count": 5,
   "metadata": {},
   "outputs": [
    {
     "name": "stdout",
     "output_type": "stream",
     "text": [
      "Loading cached object from .cs229_cache\\dictionary.pkl\n"
     ]
    }
   ],
   "source": [
    "dic = cached(lambda:word_bag.create_dictionary(crates), \"dictionary.pkl\")"
   ]
  },
  {
   "cell_type": "code",
   "execution_count": 11,
   "metadata": {},
   "outputs": [
    {
     "name": "stdout",
     "output_type": "stream",
     "text": [
      "Loading cached object from .cs229_cache\\wb10000.pkl\n"
     ]
    }
   ],
   "source": [
    "X, y = cached(lambda: word_bag.transform_crate(crates[:10000], dic, len(data.categories)), \"wb10000.pkl\")\n",
    "X = X.astype(np.float32)\n",
    "y = y.astype(np.float32)\n",
    "X_train, y_train, X_dev, y_dev = train_dev_split(X, y, train_ratio=0.8, seed=0)"
   ]
  },
  {
   "cell_type": "code",
   "execution_count": 22,
   "metadata": {},
   "outputs": [],
   "source": [
    "model = model.nn.DNNModel(num_categories=len(data.categories), learning_rate=0.0001, reg=0.000)"
   ]
  },
  {
   "cell_type": "code",
   "execution_count": 23,
   "metadata": {},
   "outputs": [
    {
     "name": "stdout",
     "output_type": "stream",
     "text": [
      "Epoch: 0, Loss: 0.0070, val_loss: 0.0067, Hamming Distance: 0.0846, val_hamming_dist: 0.0839\n",
      "Epoch: 1, Loss: 0.0045, val_loss: 0.0032, Hamming Distance: 0.0298, val_hamming_dist: 0.0296\n",
      "Epoch: 2, Loss: 0.0022, val_loss: 0.0021, Hamming Distance: 0.0221, val_hamming_dist: 0.0219\n",
      "Epoch: 3, Loss: 0.0017, val_loss: 0.0022, Hamming Distance: 0.0209, val_hamming_dist: 0.0208\n",
      "Epoch: 4, Loss: 0.0016, val_loss: 0.0019, Hamming Distance: 0.0206, val_hamming_dist: 0.0207\n",
      "Epoch: 5, Loss: 0.0015, val_loss: 0.0024, Hamming Distance: 0.0208, val_hamming_dist: 0.0209\n",
      "Epoch: 6, Loss: 0.0018, val_loss: 0.0030, Hamming Distance: 0.0205, val_hamming_dist: 0.0206\n",
      "Epoch: 7, Loss: 0.0021, val_loss: 0.0020, Hamming Distance: 0.0190, val_hamming_dist: 0.0197\n",
      "Epoch: 8, Loss: 0.0014, val_loss: 0.0017, Hamming Distance: 0.0184, val_hamming_dist: 0.0207\n",
      "Epoch: 9, Loss: 0.0011, val_loss: 0.0016, Hamming Distance: 0.0176, val_hamming_dist: 0.0189\n",
      "Epoch: 10, Loss: 0.0010, val_loss: 0.0015, Hamming Distance: 0.0157, val_hamming_dist: 0.0192\n",
      "Epoch: 11, Loss: 0.0009, val_loss: 0.0014, Hamming Distance: 0.0154, val_hamming_dist: 0.0187\n",
      "Epoch: 12, Loss: 0.0008, val_loss: 0.0014, Hamming Distance: 0.0130, val_hamming_dist: 0.0184\n",
      "Epoch: 13, Loss: 0.0007, val_loss: 0.0014, Hamming Distance: 0.0129, val_hamming_dist: 0.0193\n",
      "Epoch: 14, Loss: 0.0006, val_loss: 0.0014, Hamming Distance: 0.0108, val_hamming_dist: 0.0187\n",
      "Epoch: 15, Loss: 0.0006, val_loss: 0.0014, Hamming Distance: 0.0108, val_hamming_dist: 0.0195\n",
      "Epoch: 16, Loss: 0.0005, val_loss: 0.0014, Hamming Distance: 0.0096, val_hamming_dist: 0.0185\n",
      "Epoch: 17, Loss: 0.0005, val_loss: 0.0013, Hamming Distance: 0.0087, val_hamming_dist: 0.0173\n",
      "Epoch: 18, Loss: 0.0004, val_loss: 0.0013, Hamming Distance: 0.0070, val_hamming_dist: 0.0172\n",
      "Epoch: 19, Loss: 0.0003, val_loss: 0.0012, Hamming Distance: 0.0058, val_hamming_dist: 0.0173\n",
      "Epoch: 20, Loss: 0.0003, val_loss: 0.0013, Hamming Distance: 0.0045, val_hamming_dist: 0.0183\n"
     ]
    },
    {
     "ename": "KeyboardInterrupt",
     "evalue": "",
     "output_type": "error",
     "traceback": [
      "\u001b[1;31m---------------------------------------------------------------------------\u001b[0m",
      "\u001b[1;31mKeyboardInterrupt\u001b[0m                         Traceback (most recent call last)",
      "Cell \u001b[1;32mIn [23], line 1\u001b[0m\n\u001b[1;32m----> 1\u001b[0m model\u001b[39m.\u001b[39;49mfit(X_train, y_train, X_dev, y_dev, epochs\u001b[39m=\u001b[39;49m\u001b[39m50\u001b[39;49m)\n",
      "File \u001b[1;32mc:\\Users\\tom10\\edu\\cs229-proj\\model\\nn.py:75\u001b[0m, in \u001b[0;36mDNNModel.fit\u001b[1;34m(self, X_train, y_train, X_val, y_val, epochs, batch_size)\u001b[0m\n\u001b[0;32m     73\u001b[0m     loss\u001b[39m.\u001b[39mbackward()\n\u001b[0;32m     74\u001b[0m     \u001b[39mself\u001b[39m\u001b[39m.\u001b[39moptimizer\u001b[39m.\u001b[39mstep()\n\u001b[1;32m---> 75\u001b[0m     epoch_loss \u001b[39m+\u001b[39m\u001b[39m=\u001b[39m loss\u001b[39m.\u001b[39;49mitem()\n\u001b[0;32m     76\u001b[0m train_loss \u001b[39m=\u001b[39m epoch_loss \u001b[39m/\u001b[39m (X_train\u001b[39m.\u001b[39mshape[\u001b[39m0\u001b[39m])\n\u001b[0;32m     77\u001b[0m \u001b[39m# evaluate on validation set\u001b[39;00m\n",
      "\u001b[1;31mKeyboardInterrupt\u001b[0m: "
     ]
    }
   ],
   "source": [
    "model.fit(X_train, y_train, X_dev, y_dev, epochs=50)"
   ]
  },
  {
   "cell_type": "code",
   "execution_count": 10,
   "metadata": {},
   "outputs": [],
   "source": [
    "y_hat = model.predict(X)"
   ]
  },
  {
   "cell_type": "code",
   "execution_count": 11,
   "metadata": {},
   "outputs": [],
   "source": [
    "y_pred = (y_hat > 0).astype(np.float32)"
   ]
  },
  {
   "cell_type": "code",
   "execution_count": 21,
   "metadata": {},
   "outputs": [
    {
     "data": {
      "text/plain": [
       "array([0., 0., 0., 0., 0., 0., 1., 0., 0., 0., 0., 0., 0., 0., 0., 0., 0.,\n",
       "       0., 0., 0., 0., 0., 0., 0., 0., 0., 0., 0., 0., 0., 0., 0., 0., 0.,\n",
       "       0., 0., 0., 0., 0., 0., 0., 0., 0., 0., 0., 0., 0., 0., 1., 0., 0.,\n",
       "       0., 0., 0., 0., 0., 0., 0., 0., 0., 0., 0., 0., 0., 0., 0., 0., 0.,\n",
       "       0., 0., 0., 0., 0., 0., 0., 0., 0., 0., 0., 0., 0., 0., 0.],\n",
       "      dtype=float32)"
      ]
     },
     "execution_count": 21,
     "metadata": {},
     "output_type": "execute_result"
    }
   ],
   "source": [
    "y_pred[1024]"
   ]
  },
  {
   "cell_type": "code",
   "execution_count": 20,
   "metadata": {},
   "outputs": [
    {
     "data": {
      "text/plain": [
       "array([0., 0., 0., 0., 0., 0., 1., 0., 0., 0., 0., 0., 0., 0., 0., 0., 0.,\n",
       "       0., 0., 0., 0., 0., 0., 0., 0., 0., 0., 0., 0., 0., 0., 0., 0., 0.,\n",
       "       0., 0., 0., 0., 0., 0., 0., 0., 0., 0., 0., 0., 0., 0., 1., 0., 0.,\n",
       "       0., 0., 0., 0., 0., 0., 0., 0., 0., 0., 0., 0., 0., 0., 0., 0., 0.,\n",
       "       0., 0., 0., 0., 0., 0., 0., 0., 0., 0., 0., 0., 0., 0., 0.])"
      ]
     },
     "execution_count": 20,
     "metadata": {},
     "output_type": "execute_result"
    }
   ],
   "source": [
    "y[1024]"
   ]
  },
  {
   "cell_type": "code",
   "execution_count": null,
   "metadata": {},
   "outputs": [],
   "source": []
  }
 ],
 "metadata": {
  "kernelspec": {
   "display_name": "Python 3.9.12 ('env': venv)",
   "language": "python",
   "name": "python3"
  },
  "language_info": {
   "codemirror_mode": {
    "name": "ipython",
    "version": 3
   },
   "file_extension": ".py",
   "mimetype": "text/x-python",
   "name": "python",
   "nbconvert_exporter": "python",
   "pygments_lexer": "ipython3",
   "version": "3.9.12"
  },
  "orig_nbformat": 4,
  "vscode": {
   "interpreter": {
    "hash": "86d31b2c839410b1471e32d2b416a55b336f222b5dfb4e49f62c4dd209883d8c"
   }
  }
 },
 "nbformat": 4,
 "nbformat_minor": 2
}
