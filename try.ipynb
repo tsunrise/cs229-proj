{
 "cells": [
  {
   "cell_type": "code",
   "execution_count": 53,
   "metadata": {},
   "outputs": [
    {
     "name": "stdout",
     "output_type": "stream",
     "text": [
      "The autoreload extension is already loaded. To reload it, use:\n",
      "  %reload_ext autoreload\n"
     ]
    }
   ],
   "source": [
    "import preprocess.prepare as prepare\n",
    "import marko\n",
    "%load_ext autoreload\n",
    "%autoreload 2"
   ]
  },
  {
   "cell_type": "code",
   "execution_count": 26,
   "metadata": {},
   "outputs": [
    {
     "name": "stdout",
     "output_type": "stream",
     "text": [
      "Using cached:  crates-io.tar.gz\n",
      "Cleaning up old crates-io data\n",
      "Extracting crates-io data\n"
     ]
    },
    {
     "name": "stderr",
     "output_type": "stream",
     "text": [
      "100%|\u001b[32m██████████\u001b[0m| 21/21 [00:03<00:00,  5.38files/s]\n",
      "Loading crates: 100%|██████████| 94910/94910 [00:00<00:00, 190229.09it/s]\n",
      "Merging crates-categories relationship: 100%|██████████| 59887/59887 [00:00<00:00, 1098409.50it/s]\n"
     ]
    }
   ],
   "source": [
    "data = prepare.CratesData()"
   ]
  },
  {
   "cell_type": "code",
   "execution_count": 49,
   "metadata": {},
   "outputs": [
    {
     "name": "stdout",
     "output_type": "stream",
     "text": [
      "[11, 14]\n"
     ]
    }
   ],
   "source": [
    "crate_example = data['syn']\n",
    "crate_example_categories_indices = crate_example.category_indices\n",
    "print(crate_example_categories_indices)"
   ]
  },
  {
   "cell_type": "code",
   "execution_count": 50,
   "metadata": {},
   "outputs": [
    {
     "name": "stdout",
     "output_type": "stream",
     "text": [
      "Categories for crate syn are [Parser implementations, Development tools::Procedural macro helpers]\n"
     ]
    }
   ],
   "source": [
    "print(f\"Categories for crate {crate_example.name} are [{', '.join([data.categories[i].name for i in crate_example_categories_indices])}]\")"
   ]
  },
  {
   "cell_type": "code",
   "execution_count": 51,
   "metadata": {},
   "outputs": [
    {
     "name": "stdout",
     "output_type": "stream",
     "text": [
      "Parser for Rust source code\n"
     ]
    }
   ],
   "source": [
    "print(crate_example.description)"
   ]
  },
  {
   "cell_type": "code",
   "execution_count": 71,
   "metadata": {},
   "outputs": [],
   "source": [
    "elem = marko.parse(crate_example.readme).children[6].children[0].children"
   ]
  },
  {
   "cell_type": "code",
   "execution_count": 73,
   "metadata": {},
   "outputs": [
    {
     "data": {
      "text/plain": [
       "'Currently this library is geared toward use in Rust procedural macros, but'"
      ]
     },
     "execution_count": 73,
     "metadata": {},
     "output_type": "execute_result"
    }
   ],
   "source": [
    "elem"
   ]
  }
 ],
 "metadata": {
  "kernelspec": {
   "display_name": "Python 3.9.12 ('env': venv)",
   "language": "python",
   "name": "python3"
  },
  "language_info": {
   "codemirror_mode": {
    "name": "ipython",
    "version": 3
   },
   "file_extension": ".py",
   "mimetype": "text/x-python",
   "name": "python",
   "nbconvert_exporter": "python",
   "pygments_lexer": "ipython3",
   "version": "3.9.12"
  },
  "orig_nbformat": 4,
  "vscode": {
   "interpreter": {
    "hash": "86d31b2c839410b1471e32d2b416a55b336f222b5dfb4e49f62c4dd209883d8c"
   }
  }
 },
 "nbformat": 4,
 "nbformat_minor": 2
}
